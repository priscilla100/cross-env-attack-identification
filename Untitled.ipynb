{
 "cells": [
  {
   "cell_type": "code",
   "execution_count": 10,
   "id": "824373af",
   "metadata": {},
   "outputs": [],
   "source": [
    "from Feature_extraction import Feature_extraction"
   ]
  },
  {
   "cell_type": "code",
   "execution_count": 12,
   "id": "61b3dc34",
   "metadata": {},
   "outputs": [
    {
     "ename": "TypeError",
     "evalue": "Feature_extraction.pcap_evaluation() missing 1 required positional argument: 'csv_file_name'",
     "output_type": "error",
     "traceback": [
      "\u001b[0;31m---------------------------------------------------------------------------\u001b[0m",
      "\u001b[0;31mTypeError\u001b[0m                                 Traceback (most recent call last)",
      "Cell \u001b[0;32mIn[12], line 1\u001b[0m\n\u001b[0;32m----> 1\u001b[0m Feature_extraction\u001b[38;5;241m.\u001b[39mpcap_evaluation(\u001b[38;5;124m'\u001b[39m\u001b[38;5;124mDoS_SYN_flood_00001_20220805124042\u001b[39m\u001b[38;5;124m'\u001b[39m,\u001b[38;5;124m'\u001b[39m\u001b[38;5;124mDoS_SYN_flood_00001_20220805124042.csv\u001b[39m\u001b[38;5;124m'\u001b[39m)\n",
      "\u001b[0;31mTypeError\u001b[0m: Feature_extraction.pcap_evaluation() missing 1 required positional argument: 'csv_file_name'"
     ]
    }
   ],
   "source": [
    "Feature_extraction.pcap_evaluation('DoS_SYN_flood_00001_20220805124042','DoS_SYN_flood_00001_20220805124042.csv')"
   ]
  },
  {
   "cell_type": "code",
   "execution_count": 5,
   "id": "5ab7f368",
   "metadata": {},
   "outputs": [
    {
     "ename": "TypeError",
     "evalue": "'module' object is not callable",
     "output_type": "error",
     "traceback": [
      "\u001b[0;31m---------------------------------------------------------------------------\u001b[0m",
      "\u001b[0;31mTypeError\u001b[0m                                 Traceback (most recent call last)",
      "Cell \u001b[0;32mIn[5], line 1\u001b[0m\n\u001b[0;32m----> 1\u001b[0m a \u001b[38;5;241m=\u001b[39m Feature_extraction()\n",
      "\u001b[0;31mTypeError\u001b[0m: 'module' object is not callable"
     ]
    }
   ],
   "source": [
    "a = Feature_extraction.p"
   ]
  },
  {
   "cell_type": "code",
   "execution_count": 5,
   "id": "25d6a2f3",
   "metadata": {},
   "outputs": [
    {
     "name": "stdout",
     "output_type": "stream",
     "text": [
      "WARNING: No IPv4 address found on anpi1 !\n",
      "WARNING: No IPv4 address found on anpi0 !\n",
      "WARNING: more No IPv4 address found on anpi2 !\n",
      "========== CIC IoT feature extraction ==========\n",
      "mirai-udpflooding-3-dec.pcap\n",
      ">>>> 1. splitting the .pcap file.\n",
      "reading from file mirai-udpflooding-3-dec.pcap, link-type EN10MB (Ethernet)\n",
      ">>>> 2. Converting (sub) .pcap files to .csv files.\n",
      "  0%|                                                     | 0/2 [00:00<?, ?it/s]WARNING: No IPv4 address found on anpi1 !\n",
      "WARNING: No IPv4 address found on anpi1 !\n",
      "WARNING: No IPv4 address found on anpi1 !\n",
      "WARNING: No IPv4 address found on anpi0 !\n",
      "WARNING: No IPv4 address found on anpi0 !\n",
      "WARNING: No IPv4 address found on anpi1 !\n",
      "WARNING: No IPv4 address found on anpi1 !\n",
      "WARNING: No IPv4 address found on anpi0 !\n",
      "WARNING: more No IPv4 address found on anpi2 !\n",
      "WARNING: more No IPv4 address found on anpi2 !\n",
      "WARNING: No IPv4 address found on anpi0 !\n",
      "WARNING: No IPv4 address found on anpi0 !\n",
      "WARNING: more No IPv4 address found on anpi2 !\n",
      "WARNING: more No IPv4 address found on anpi2 !\n",
      "WARNING: more No IPv4 address found on anpi2 !\n",
      "WARNING: No IPv4 address found on anpi1 !\n",
      "WARNING: No IPv4 address found on anpi0 !\n",
      "WARNING: more No IPv4 address found on anpi2 !\n",
      "Process Process-1:\n",
      "Traceback (most recent call last):\n",
      "  File \"/Users/priscilladanso/anaconda3/lib/python3.11/multiprocessing/process.py\", line 314, in _bootstrap\n",
      "    self.run()\n",
      "  File \"/Users/priscilladanso/anaconda3/lib/python3.11/multiprocessing/process.py\", line 108, in run\n",
      "    self._target(*self._args, **self._kwargs)\n",
      "  File \"/Users/priscilladanso/Documents/Stony Brook/CSE 509 Network Security/supplementary_materials/pcap2csv/Feature_extraction.py\", line 85, in pcap_evaluation\n",
      "    pcap = dpkt.pcap.Reader(f)\n",
      "           ^^^^^^^^^^^^^^^^^^^\n",
      "  File \"/Users/priscilladanso/anaconda3/lib/python3.11/site-packages/dpkt/pcap.py\", line 328, in __init__\n",
      "    raise ValueError('invalid tcpdump header')\n",
      "ValueError: invalid tcpdump header\n",
      "Process Process-4:\n",
      "Traceback (most recent call last):\n",
      "  File \"/Users/priscilladanso/anaconda3/lib/python3.11/multiprocessing/process.py\", line 314, in _bootstrap\n",
      "    self.run()\n",
      "  File \"/Users/priscilladanso/anaconda3/lib/python3.11/multiprocessing/process.py\", line 108, in run\n",
      "    self._target(*self._args, **self._kwargs)\n",
      "  File \"/Users/priscilladanso/Documents/Stony Brook/CSE 509 Network Security/supplementary_materials/pcap2csv/Feature_extraction.py\", line 178, in pcap_evaluation\n",
      "    src_ip = con_basic.get_source_ip()\n",
      "             ^^^^^^^^^^^^^^^^^^^^^^^^^\n",
      "  File \"/Users/priscilladanso/Documents/Stony Brook/CSE 509 Network Security/supplementary_materials/pcap2csv/Connectivity_features.py\", line 9, in get_source_ip\n",
      "    return ip_to_str(self.packet.src)\n",
      "                     ^^^^^^^^^^^^^^^\n",
      "AttributeError: 'bytes' object has no attribute 'src'\n",
      " 50%|██████████████████████▌                      | 1/2 [01:05<01:05, 65.99s/it]WARNING: No IPv4 address found on anpi1 !\n",
      "WARNING: No IPv4 address found on anpi0 !\n",
      "WARNING: more No IPv4 address found on anpi2 !\n",
      "WARNING: No IPv4 address found on anpi1 !\n",
      "WARNING: No IPv4 address found on anpi0 !\n",
      "WARNING: more No IPv4 address found on anpi2 !\n",
      "WARNING: No IPv4 address found on anpi1 !\n",
      "WARNING: No IPv4 address found on anpi1 !\n",
      "WARNING: No IPv4 address found on anpi1 !\n",
      "WARNING: No IPv4 address found on anpi0 !\n",
      "WARNING: No IPv4 address found on anpi0 !\n",
      "WARNING: No IPv4 address found on anpi0 !\n",
      "WARNING: more No IPv4 address found on anpi2 !\n",
      "WARNING: more No IPv4 address found on anpi2 !\n",
      "WARNING: more No IPv4 address found on anpi2 !\n",
      "Process Process-7:\n",
      "Traceback (most recent call last):\n",
      "  File \"/Users/priscilladanso/anaconda3/lib/python3.11/multiprocessing/process.py\", line 314, in _bootstrap\n",
      "    self.run()\n",
      "  File \"/Users/priscilladanso/anaconda3/lib/python3.11/multiprocessing/process.py\", line 108, in run\n",
      "    self._target(*self._args, **self._kwargs)\n",
      "  File \"/Users/priscilladanso/Documents/Stony Brook/CSE 509 Network Security/supplementary_materials/pcap2csv/Feature_extraction.py\", line 178, in pcap_evaluation\n",
      "    src_ip = con_basic.get_source_ip()\n",
      "             ^^^^^^^^^^^^^^^^^^^^^^^^^\n",
      "  File \"/Users/priscilladanso/Documents/Stony Brook/CSE 509 Network Security/supplementary_materials/pcap2csv/Connectivity_features.py\", line 9, in get_source_ip\n",
      "    return ip_to_str(self.packet.src)\n",
      "                     ^^^^^^^^^^^^^^^\n",
      "AttributeError: 'bytes' object has no attribute 'src'\n",
      "100%|█████████████████████████████████████████████| 2/2 [02:50<00:00, 85.25s/it]\n",
      "Traceback (most recent call last):\n",
      "  File \"/Users/priscilladanso/Documents/Stony Brook/CSE 509 Network Security/supplementary_materials/pcap2csv/Generating_dataset.py\", line 64, in <module>\n",
      "    assert len(subfiles)==len(os.listdir(destination_directory))\n",
      "           ^^^^^^^^^^^^^^^^^^^^^^^^^^^^^^^^^^^^^^^^^^^^^^^^^^^^^\n",
      "AssertionError\n"
     ]
    }
   ],
   "source": [
    "!python Generating_dataset.py"
   ]
  },
  {
   "cell_type": "code",
   "execution_count": 8,
   "id": "4c18c6a4",
   "metadata": {},
   "outputs": [
    {
     "data": {
      "text/plain": [
       "<module 'Generating_dataset' from '/Users/priscilladanso/Documents/Stony Brook/CSE 509 Network Security/supplementary_materials/pcap2csv/Generating_dataset.py'>"
      ]
     },
     "execution_count": 8,
     "metadata": {},
     "output_type": "execute_result"
    }
   ],
   "source": [
    "Generating_dataset"
   ]
  },
  {
   "cell_type": "code",
   "execution_count": null,
   "id": "8d589f6e",
   "metadata": {},
   "outputs": [],
   "source": []
  }
 ],
 "metadata": {
  "kernelspec": {
   "display_name": "Python 3 (ipykernel)",
   "language": "python",
   "name": "python3"
  },
  "language_info": {
   "codemirror_mode": {
    "name": "ipython",
    "version": 3
   },
   "file_extension": ".py",
   "mimetype": "text/x-python",
   "name": "python",
   "nbconvert_exporter": "python",
   "pygments_lexer": "ipython3",
   "version": "3.11.4"
  }
 },
 "nbformat": 4,
 "nbformat_minor": 5
}
